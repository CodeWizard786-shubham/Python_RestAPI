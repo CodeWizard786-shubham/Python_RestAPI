{
 "cells": [
  {
   "cell_type": "markdown",
   "metadata": {},
   "source": [
    "# Test Rest API Build without Framework"
   ]
  },
  {
   "cell_type": "code",
   "execution_count": 3,
   "metadata": {},
   "outputs": [],
   "source": [
    "# import request library\n",
    "import requests\n",
    "from dotenv import load_dotenv"
   ]
  },
  {
   "cell_type": "markdown",
   "metadata": {},
   "source": [
    "Define API key to send thorugh headers for testing"
   ]
  },
  {
   "cell_type": "code",
   "execution_count": 4,
   "metadata": {},
   "outputs": [],
   "source": [
    "\n",
    "load_dotenv()\n",
    "\n",
    "api_key = 'dyBuWns3k99xbJK1'\n",
    "headers = {'X-API-Key': api_key}"
   ]
  },
  {
   "cell_type": "markdown",
   "metadata": {},
   "source": [
    "GET REQUEST METHOD"
   ]
  },
  {
   "cell_type": "code",
   "execution_count": 8,
   "metadata": {},
   "outputs": [
    {
     "name": "stdout",
     "output_type": "stream",
     "text": [
      "Status Code: 200\n",
      "[{'id': 2, 'name': 'ramesh', 'age': 22, 'address': 'mumbai'}, {'id': 4, 'name': 'shreyash', 'age': 24, 'address': 'dhanu'}, {'id': 5, 'name': 'John', 'age': 30, 'address': '123 Main St'}]\n"
     ]
    }
   ],
   "source": [
    "# GET request to retrieve data\n",
    "response = requests.get('http://localhost:8000/api/data', headers=headers)\n",
    "print(\"Status Code:\",response.status_code)\n",
    "print(response.json())"
   ]
  },
  {
   "cell_type": "markdown",
   "metadata": {},
   "source": [
    "POST HTTP REQUEST METHOD"
   ]
  },
  {
   "cell_type": "code",
   "execution_count": 7,
   "metadata": {},
   "outputs": [
    {
     "name": "stdout",
     "output_type": "stream",
     "text": [
      "200\n",
      "{'message': 'Data successfully submitted and stored in the database.'}\n"
     ]
    }
   ],
   "source": [
    "# POST request to submit data\n",
    "data = {\n",
    "    'name': 'John',\n",
    "    'age': 30,\n",
    "    'address': '123 Main St'\n",
    "}\n",
    "response = requests.post('http://localhost:8000/api/submit', data=data, headers=headers)\n",
    "print(response.status_code)\n",
    "print(response.json())"
   ]
  },
  {
   "cell_type": "markdown",
   "metadata": {},
   "source": [
    "PUT HTTP REQUEST METHOD"
   ]
  },
  {
   "cell_type": "code",
   "execution_count": 9,
   "metadata": {},
   "outputs": [
    {
     "name": "stdout",
     "output_type": "stream",
     "text": [
      "200\n",
      "{'message': 'Data successfully updated and stored in the database.'}\n"
     ]
    }
   ],
   "source": [
    "# PUT request to update data\n",
    "data = {\n",
    "    'age': 31,\n",
    "    'address': '456 Elm St',\n",
    "    'name': 'John'\n",
    "}\n",
    "response = requests.put('http://localhost:8000/api/update', data=data, headers=headers)\n",
    "print(response.status_code)\n",
    "print(response.json())"
   ]
  },
  {
   "cell_type": "markdown",
   "metadata": {},
   "source": [
    "DELETE HTTP REQUEST METHOD"
   ]
  },
  {
   "cell_type": "code",
   "execution_count": 10,
   "metadata": {},
   "outputs": [
    {
     "name": "stdout",
     "output_type": "stream",
     "text": [
      "200\n",
      "{'message': 'Data successfully deleted from the table.'}\n"
     ]
    }
   ],
   "source": [
    "# DELETE request to delete data\n",
    "data = {'name': 'John'}\n",
    "response = requests.delete('http://localhost:8000/api/delete', data=data, headers=headers)\n",
    "print(response.status_code)\n",
    "print(response.json())"
   ]
  }
 ],
 "metadata": {
  "kernelspec": {
   "display_name": "restapi",
   "language": "python",
   "name": "python3"
  },
  "language_info": {
   "codemirror_mode": {
    "name": "ipython",
    "version": 3
   },
   "file_extension": ".py",
   "mimetype": "text/x-python",
   "name": "python",
   "nbconvert_exporter": "python",
   "pygments_lexer": "ipython3",
   "version": "3.8.10"
  },
  "orig_nbformat": 4
 },
 "nbformat": 4,
 "nbformat_minor": 2
}
